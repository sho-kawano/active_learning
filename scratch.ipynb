{
 "cells": [
  {
   "cell_type": "markdown",
   "metadata": {},
   "source": [
    "# Initial Set Up"
   ]
  },
  {
   "cell_type": "code",
   "execution_count": 1,
   "metadata": {},
   "outputs": [
    {
     "name": "stdout",
     "output_type": "stream",
     "text": [
      "size of training set: 2854\n",
      "size of validation set: 1899\n",
      "classes: ['alt.atheism', 'comp.graphics', 'rec.sport.baseball', 'sci.med', 'soc.religion.christian']\n"
     ]
    }
   ],
   "source": [
    "from sklearn.datasets import fetch_20newsgroups\n",
    "categories = ['alt.atheism', 'soc.religion.christian',\n",
    "             'comp.graphics', 'sci.med', 'rec.sport.baseball']\n",
    "             #             'comp.graphics', 'sci.med', \n",
    "\n",
    "mydata_train = fetch_20newsgroups(subset='train', shuffle=True, categories=categories, \n",
    "                                  remove = ('headers', 'footers', 'quotes'), random_state=42)\n",
    "\n",
    "mydata_test = fetch_20newsgroups(subset='test', shuffle=True, categories=categories, \n",
    "                                  remove = ('headers', 'footers', 'quotes'), random_state=42)\n",
    "\n",
    "print('size of training set: %s' % (len(mydata_train ['data'])))\n",
    "print('size of validation set: %s' % (len(mydata_test['data'])))\n",
    "print('classes: %s' % (mydata_train.target_names))"
   ]
  },
  {
   "cell_type": "code",
   "execution_count": 2,
   "metadata": {},
   "outputs": [
    {
     "data": {
      "text/html": [
       "<div>\n",
       "<style scoped>\n",
       "    .dataframe tbody tr th:only-of-type {\n",
       "        vertical-align: middle;\n",
       "    }\n",
       "\n",
       "    .dataframe tbody tr th {\n",
       "        vertical-align: top;\n",
       "    }\n",
       "\n",
       "    .dataframe thead th {\n",
       "        text-align: right;\n",
       "    }\n",
       "</style>\n",
       "<table border=\"1\" class=\"dataframe\">\n",
       "  <thead>\n",
       "    <tr style=\"text-align: right;\">\n",
       "      <th></th>\n",
       "      <th>data</th>\n",
       "      <th>target</th>\n",
       "    </tr>\n",
       "  </thead>\n",
       "  <tbody>\n",
       "    <tr>\n",
       "      <th>0</th>\n",
       "      <td>I know that there is MSG sensitivity.  When I ...</td>\n",
       "      <td>3</td>\n",
       "    </tr>\n",
       "    <tr>\n",
       "      <th>1</th>\n",
       "      <td>Okay, this is a long shot.\\n\\nMy friend Robin ...</td>\n",
       "      <td>3</td>\n",
       "    </tr>\n",
       "    <tr>\n",
       "      <th>2</th>\n",
       "      <td>\\nWhile we're on the multipurpose subject, le...</td>\n",
       "      <td>2</td>\n",
       "    </tr>\n",
       "    <tr>\n",
       "      <th>3</th>\n",
       "      <td>\\netc. ...\\n\\n\\nDyer is beyond rude. \\n\\nThere...</td>\n",
       "      <td>3</td>\n",
       "    </tr>\n",
       "    <tr>\n",
       "      <th>4</th>\n",
       "      <td>Lowenstein is NOT Jewish.  However, there is a...</td>\n",
       "      <td>2</td>\n",
       "    </tr>\n",
       "    <tr>\n",
       "      <th>5</th>\n",
       "      <td>[deletions]\\n\\nIf this is grounded firmly in I...</td>\n",
       "      <td>0</td>\n",
       "    </tr>\n",
       "    <tr>\n",
       "      <th>6</th>\n",
       "      <td>\\n\\n\\n\\n\\n\\nIf I remember correctly (Which is ...</td>\n",
       "      <td>2</td>\n",
       "    </tr>\n",
       "    <tr>\n",
       "      <th>7</th>\n",
       "      <td>has no\\nmitigate\\nliterature,\\n\\nFirst, let me...</td>\n",
       "      <td>3</td>\n",
       "    </tr>\n",
       "    <tr>\n",
       "      <th>8</th>\n",
       "      <td>Excerpts from netnews.alt.atheism: 15-Apr-93 R...</td>\n",
       "      <td>0</td>\n",
       "    </tr>\n",
       "    <tr>\n",
       "      <th>9</th>\n",
       "      <td>\\nWhy?  Do you expect him to remain the best s...</td>\n",
       "      <td>2</td>\n",
       "    </tr>\n",
       "  </tbody>\n",
       "</table>\n",
       "</div>"
      ],
      "text/plain": [
       "                                                data  target\n",
       "0  I know that there is MSG sensitivity.  When I ...       3\n",
       "1  Okay, this is a long shot.\\n\\nMy friend Robin ...       3\n",
       "2   \\nWhile we're on the multipurpose subject, le...       2\n",
       "3  \\netc. ...\\n\\n\\nDyer is beyond rude. \\n\\nThere...       3\n",
       "4  Lowenstein is NOT Jewish.  However, there is a...       2\n",
       "5  [deletions]\\n\\nIf this is grounded firmly in I...       0\n",
       "6  \\n\\n\\n\\n\\n\\nIf I remember correctly (Which is ...       2\n",
       "7  has no\\nmitigate\\nliterature,\\n\\nFirst, let me...       3\n",
       "8  Excerpts from netnews.alt.atheism: 15-Apr-93 R...       0\n",
       "9  \\nWhy?  Do you expect him to remain the best s...       2"
      ]
     },
     "execution_count": 2,
     "metadata": {},
     "output_type": "execute_result"
    }
   ],
   "source": [
    "import pandas as pd\n",
    "mydata_train_df = pd.DataFrame({'data': mydata_train.data, 'target': mydata_train.target})\n",
    "mydata_train_df.head(10)"
   ]
  },
  {
   "cell_type": "code",
   "execution_count": 3,
   "metadata": {},
   "outputs": [],
   "source": [
    "seed = 777"
   ]
  },
  {
   "cell_type": "markdown",
   "metadata": {},
   "source": [
    "# Labeled Training Data Set Up\n",
    "\n"
   ]
  },
  {
   "cell_type": "code",
   "execution_count": 4,
   "metadata": {},
   "outputs": [],
   "source": [
    "X = mydata_train.data\n",
    "y = mydata_train.target\n",
    "\n",
    "#X_test = mydata_test.data\n",
    "#y_test = mydata_test.target"
   ]
  },
  {
   "cell_type": "markdown",
   "metadata": {},
   "source": [
    "Labeled Training Data: initially, we will have 25 labeled data.  5 for each category. "
   ]
  },
  {
   "cell_type": "code",
   "execution_count": 5,
   "metadata": {},
   "outputs": [],
   "source": [
    "import numpy as np\n",
    "n_per_cat = 4\n",
    "np.random.seed(seed)\n",
    "\n",
    "initial_idx = []\n",
    "for cat in range(5):\n",
    "    initial_idx.append(mydata_train_df[mydata_train_df.target==cat][0:n_per_cat].index) \n",
    "\n",
    "initial_idx = [item for sublist in initial_idx for item in sublist]\n",
    "X_train = [X[i] for i in initial_idx]\n",
    "y_train = [y[i] for i in initial_idx]\n"
   ]
  },
  {
   "cell_type": "markdown",
   "metadata": {},
   "source": [
    "Visual Check:"
   ]
  },
  {
   "cell_type": "code",
   "execution_count": 6,
   "metadata": {},
   "outputs": [
    {
     "data": {
      "image/png": "[encoded data removed]",
      "text/plain": [
       "<Figure size 640x240 with 1 Axes>"
      ]
     },
     "metadata": {},
     "output_type": "display_data"
    }
   ],
   "source": [
    "import numpy as np\n",
    "targets, frequency = np.unique(y_train, return_counts=True)\n",
    "targets, frequency\n",
    "\n",
    "import matplotlib.pyplot as plt\n",
    "%matplotlib inline\n",
    "\n",
    "fig = plt.figure(figsize=(8, 3), dpi= 80, facecolor='w', edgecolor='k')\n",
    "plt.bar(mydata_train.target_names, frequency)\n",
    "plt.title('Class Distribution of the ' + str(n_per_cat) + ' Starting Labeled Data')\n",
    "plt.xlabel('News Group')\n",
    "plt.ylabel('Frequency')\n",
    "plt.show()"
   ]
  },
  {
   "cell_type": "markdown",
   "metadata": {},
   "source": [
    "Here is an SVM Model with Count Vectorizer and TF-IDF preprocessing. "
   ]
  },
  {
   "cell_type": "code",
   "execution_count": 7,
   "metadata": {},
   "outputs": [],
   "source": [
    "from sklearn.pipeline import Pipeline\n",
    "from sklearn.feature_extraction.text import TfidfTransformer\n",
    "from sklearn.feature_extraction.text import CountVectorizer\n",
    "from sklearn.svm import SVC\n",
    "from sklearn.ensemble import RandomForestClassifier\n",
    "\n",
    "#svm_clf = Pipeline([\n",
    "      #  ('vect', CountVectorizer()),\n",
    "      #  ('tfidf', TfidfTransformer()),\n",
    "      #  ('clf', SVC(probability=True))])\n",
    "\n",
    "\n",
    "rf_clf = Pipeline([\n",
    "        ('vect', CountVectorizer()),\n",
    "        ('tfidf', TfidfTransformer()),\n",
    "        ('clf', RandomForestClassifier())])"
   ]
  },
  {
   "cell_type": "markdown",
   "metadata": {},
   "source": [
    "How does the SVM of the fully labeled data perform?"
   ]
  },
  {
   "cell_type": "code",
   "execution_count": 8,
   "metadata": {},
   "outputs": [
    {
     "data": {
      "text/plain": [
       "0.9810791871058164"
      ]
     },
     "execution_count": 8,
     "metadata": {},
     "output_type": "execute_result"
    }
   ],
   "source": [
    "full_data_model = Pipeline([\n",
    "        ('vect', CountVectorizer()),\n",
    "        ('tfidf', TfidfTransformer()),\n",
    "        ('clf', RandomForestClassifier())])\n",
    "full_data_model.fit(X, y).score(X, y)"
   ]
  },
  {
   "cell_type": "code",
   "execution_count": 20,
   "metadata": {},
   "outputs": [
    {
     "name": "stdout",
     "output_type": "stream",
     "text": [
      "                        precision    recall  f1-score   support\n",
      "\n",
      "           alt.atheism       1.00      0.97      0.99       480\n",
      "         comp.graphics       1.00      0.97      0.99       584\n",
      "    rec.sport.baseball       0.92      1.00      0.96       597\n",
      "               sci.med       1.00      0.97      0.99       594\n",
      "soc.religion.christian       1.00      0.98      0.99       599\n",
      "\n",
      "              accuracy                           0.98      2854\n",
      "             macro avg       0.98      0.98      0.98      2854\n",
      "          weighted avg       0.98      0.98      0.98      2854\n",
      "\n"
     ]
    }
   ],
   "source": [
    "from sklearn import metrics\n",
    "predicted = full_data_model.predict(X=X)\n",
    "print(metrics.classification_report(mydata_train.target, predicted, target_names=mydata_test.target_names))"
   ]
  },
  {
   "cell_type": "code",
   "execution_count": 24,
   "metadata": {},
   "outputs": [
    {
     "data": {
      "text/plain": [
       "(array([1.        , 1.        , 0.91846154, 0.99827288, 1.        ]),\n",
       " array([0.975     , 0.97089041, 1.        , 0.97306397, 0.98497496]))"
      ]
     },
     "execution_count": 24,
     "metadata": {},
     "output_type": "execute_result"
    }
   ],
   "source": [
    "metrics.precision_recall_fscore_support(mydata_train.target, predicted)[0:2]"
   ]
  },
  {
   "cell_type": "code",
   "execution_count": 10,
   "metadata": {},
   "outputs": [
    {
     "data": {
      "text/plain": [
       "0.2904695164681149"
      ]
     },
     "execution_count": 10,
     "metadata": {},
     "output_type": "execute_result"
    }
   ],
   "source": [
    "text_clf = Pipeline([\n",
    "        ('vect', CountVectorizer()),\n",
    "        ('tfidf', TfidfTransformer()),\n",
    "        ('clf', RandomForestClassifier())])\n",
    "text_clf.fit(X_train, y_train).score(X, y)"
   ]
  },
  {
   "cell_type": "code",
   "execution_count": 11,
   "metadata": {},
   "outputs": [
    {
     "name": "stdout",
     "output_type": "stream",
     "text": [
      "                        precision    recall  f1-score   support\n",
      "\n",
      "           alt.atheism       0.17      0.22      0.19       480\n",
      "         comp.graphics       0.34      0.60      0.43       584\n",
      "    rec.sport.baseball       0.43      0.11      0.18       597\n",
      "               sci.med       0.38      0.23      0.29       594\n",
      "soc.religion.christian       0.24      0.29      0.27       599\n",
      "\n",
      "              accuracy                           0.29      2854\n",
      "             macro avg       0.31      0.29      0.27      2854\n",
      "          weighted avg       0.32      0.29      0.27      2854\n",
      "\n"
     ]
    }
   ],
   "source": [
    "predicted = text_clf.predict(X=X)\n",
    "print(metrics.classification_report(mydata_train.target, predicted, target_names=mydata_test.target_names))"
   ]
  },
  {
   "cell_type": "markdown",
   "metadata": {},
   "source": [
    "# Random Sampling"
   ]
  },
  {
   "cell_type": "code",
   "execution_count": null,
   "metadata": {},
   "outputs": [],
   "source": [
    "def random_sampling(classifier, X_pool):\n",
    "    n_samples = len(X_pool)\n",
    "    query_idx = np.random.choice(range(n_samples))\n",
    "    return query_idx, X_pool[query_idx]\n",
    "\n",
    "from modAL.models import ActiveLearner\n",
    "\n",
    "random_learner = ActiveLearner(\n",
    "    estimator=rf_clf,\n",
    "    query_strategy=random_sampling,\n",
    "    X_training=X_train, y_training=y_train)\n",
    "\n",
    "current_learner = random_learner"
   ]
  },
  {
   "cell_type": "code",
   "execution_count": null,
   "metadata": {},
   "outputs": [],
   "source": [
    "np.random.seed(seed)\n",
    "# active learning\n",
    "n_queries = 25\n",
    "query_indices = []\n",
    "accuracies = []\n",
    "accuracies.append(current_learner.score(X=X, y=y))\n",
    "for k in range(n_queries):\n",
    "    query_idx, query_instance = current_learner.query(X)\n",
    "    current_learner.teach([X[query_idx]], [y[query_idx]])\n",
    "    query_indices.append(query_idx) \n",
    "    accuracies.append(current_learner.score(X=X, y=y))"
   ]
  },
  {
   "cell_type": "code",
   "execution_count": null,
   "metadata": {},
   "outputs": [],
   "source": [
    "plt.rcParams[\"figure.figsize\"] = (8, 3)\n",
    "plt.plot(accuracies)\n",
    "plt.xlabel(\"Number of iterations\")\n",
    "plt.ylabel(\"Accuracy\")"
   ]
  },
  {
   "cell_type": "code",
   "execution_count": null,
   "metadata": {},
   "outputs": [],
   "source": [
    "query_cat = mydata_train_df.iloc[query_indices, ].target\n",
    "\n",
    "targets, frequency = np.unique(query_cat, return_counts=True)\n",
    "targets, frequency\n",
    "\n",
    "\n",
    "fig = plt.figure(figsize=(8, 3), dpi= 80, facecolor='w', edgecolor='k')\n",
    "plt.bar(mydata_train.target_names, frequency)\n",
    "plt.title('Class Distribution of the ' + str(n_queries) + ' queried observations')\n",
    "plt.xlabel('News Group')\n",
    "plt.ylabel('Frequency')\n",
    "plt.show()"
   ]
  },
  {
   "cell_type": "code",
   "execution_count": null,
   "metadata": {},
   "outputs": [],
   "source": [
    "from sklearn import metrics\n",
    "predicted = current_learner.predict(X=X)\n",
    "print(metrics.classification_report(mydata_train.target, predicted, target_names=mydata_test.target_names))"
   ]
  },
  {
   "cell_type": "code",
   "execution_count": null,
   "metadata": {},
   "outputs": [],
   "source": [
    "current_learner.score(X, y)"
   ]
  },
  {
   "cell_type": "code",
   "execution_count": null,
   "metadata": {},
   "outputs": [],
   "source": [
    "random_accuracy = accuracies\n",
    "random_query_cat = query_cat"
   ]
  },
  {
   "cell_type": "markdown",
   "metadata": {},
   "source": [
    "# Margin Sampling"
   ]
  },
  {
   "cell_type": "code",
   "execution_count": null,
   "metadata": {},
   "outputs": [],
   "source": [
    "from modAL.uncertainty import margin_sampling\n",
    "\n",
    "margin_learner = ActiveLearner(\n",
    "    estimator=rf_clf,\n",
    "    query_strategy=margin_sampling,\n",
    "    X_training=X_train, y_training=y_train\n",
    ")"
   ]
  },
  {
   "cell_type": "code",
   "execution_count": null,
   "metadata": {},
   "outputs": [],
   "source": [
    "np.random.seed(seed)\n",
    "# active learning\n",
    "n_queries = 25\n",
    "query_indices = []\n",
    "accuracies = []\n",
    "accuracies.append(margin_learner.score(X=X, y=y))\n",
    "for k in range(n_queries):\n",
    "    accuracies.append(margin_learner.score(X=X, y=y))\n",
    "    query_idx, query_instance = margin_learner.query(X)\n",
    "    margin_learner.teach([X[query_idx[0]]], [y[query_idx[0]]])\n",
    "    query_indices.append(query_idx[0]) "
   ]
  },
  {
   "cell_type": "code",
   "execution_count": null,
   "metadata": {},
   "outputs": [],
   "source": [
    "plt.rcParams[\"figure.figsize\"] = (8, 3)\n",
    "plt.plot(accuracies)\n",
    "plt.xlabel(\"Number of iterations\")\n",
    "plt.ylabel(\"Accuracy\")"
   ]
  },
  {
   "cell_type": "code",
   "execution_count": null,
   "metadata": {},
   "outputs": [],
   "source": [
    "query_cat = mydata_train_df.iloc[query_indices, ].target\n",
    "\n",
    "targets, frequency = np.unique(query_cat, return_counts=True)\n",
    "targets, frequency\n",
    "\n",
    "\n",
    "fig = plt.figure(figsize=(8, 3), dpi= 80, facecolor='w', edgecolor='k')\n",
    "plt.bar(mydata_train.target_names, frequency)\n",
    "plt.title('Class Distribution of the ' + str(n_queries) + ' queried observations')\n",
    "plt.xlabel('News Group')\n",
    "plt.ylabel('Frequency')\n",
    "plt.show()"
   ]
  },
  {
   "cell_type": "code",
   "execution_count": null,
   "metadata": {},
   "outputs": [],
   "source": [
    "predicted = margin_learner.predict(X=X)\n",
    "print(metrics.classification_report(mydata_train.target, predicted, target_names=mydata_test.target_names))"
   ]
  },
  {
   "cell_type": "code",
   "execution_count": null,
   "metadata": {},
   "outputs": [],
   "source": [
    "margin_learner.score(X, y)"
   ]
  },
  {
   "cell_type": "code",
   "execution_count": null,
   "metadata": {},
   "outputs": [],
   "source": [
    "margin_accuracy = accuracies\n",
    "margin_query_cat = query_cat"
   ]
  },
  {
   "cell_type": "markdown",
   "metadata": {},
   "source": [
    "# Entropy Sampling"
   ]
  },
  {
   "cell_type": "code",
   "execution_count": null,
   "metadata": {},
   "outputs": [],
   "source": [
    "from modAL.uncertainty import entropy_sampling\n",
    "\n",
    "entropy_learner = ActiveLearner(\n",
    "    estimator=rf_clf,\n",
    "    query_strategy=entropy_sampling,\n",
    "    X_training=X_train, y_training=y_train\n",
    ")\n",
    "current_learner = entropy_learner"
   ]
  },
  {
   "cell_type": "code",
   "execution_count": null,
   "metadata": {},
   "outputs": [],
   "source": [
    "np.random.seed(seed)\n",
    "# active learning\n",
    "n_queries = 25\n",
    "query_indices = []\n",
    "accuracies = []\n",
    "accuracies.append(current_learner.score(X=X, y=y))\n",
    "for k in range(n_queries):\n",
    "    query_idx, query_instance = current_learner.query(X)\n",
    "    current_learner.teach([X[query_idx[0]]], [y[query_idx[0]]])\n",
    "    query_indices.append(query_idx[0]) \n",
    "    accuracies.append(current_learner.score(X=X, y=y))"
   ]
  },
  {
   "cell_type": "code",
   "execution_count": null,
   "metadata": {},
   "outputs": [],
   "source": [
    "plt.rcParams[\"figure.figsize\"] = (8, 3)\n",
    "plt.plot(accuracies)\n",
    "plt.xlabel(\"Number of iterations\")\n",
    "plt.ylabel(\"Accuracy\")"
   ]
  },
  {
   "cell_type": "code",
   "execution_count": null,
   "metadata": {},
   "outputs": [],
   "source": [
    "query_cat = mydata_train_df.iloc[query_indices, ].target\n",
    "\n",
    "targets, frequency = np.unique(query_cat, return_counts=True)\n",
    "targets, frequency\n",
    "\n",
    "\n",
    "fig = plt.figure(figsize=(8, 3), dpi= 80, facecolor='w', edgecolor='k')\n",
    "plt.bar(mydata_train.target_names, frequency)\n",
    "plt.title('Class Distribution of the ' + str(n_queries) + ' queried observations')\n",
    "plt.xlabel('News Group')\n",
    "plt.ylabel('Frequency')\n",
    "plt.show()"
   ]
  },
  {
   "cell_type": "code",
   "execution_count": null,
   "metadata": {},
   "outputs": [],
   "source": [
    "predicted = current_learner.predict(X=X)\n",
    "print(metrics.classification_report(mydata_train.target, predicted, target_names=mydata_test.target_names))"
   ]
  },
  {
   "cell_type": "code",
   "execution_count": null,
   "metadata": {},
   "outputs": [],
   "source": [
    "current_learner.score(X, y)"
   ]
  },
  {
   "cell_type": "code",
   "execution_count": null,
   "metadata": {},
   "outputs": [],
   "source": [
    "entropy_accuracy = accuracies\n",
    "entropy_query_cat = query_cat"
   ]
  },
  {
   "cell_type": "markdown",
   "metadata": {},
   "source": [
    "# How are they querying? "
   ]
  },
  {
   "cell_type": "code",
   "execution_count": null,
   "metadata": {},
   "outputs": [],
   "source": [
    "plt.rcParams[\"figure.figsize\"] = (10, 10)\n",
    "f1, ax = plt.subplots(2, 1, gridspec_kw={'height_ratios': [2, 1]})\n",
    "\n",
    "# -------------------------------------------\n",
    "\n",
    "ax[0].plot(random_accuracy, label=\"random sampling\", alpha=0.5, lw=1)\n",
    "ax[0].plot(margin_accuracy, label=\"margin sampling\", alpha=0.5, lw=1)\n",
    "ax[0].plot(entropy_accuracy, label=\"entropy sampling\", alpha=0.5, lw=1)\n",
    "ax[0].set_ylabel('Accuracy')\n",
    "ax[0].legend(loc='upper left')\n",
    "\n",
    "# -------------------------------------------\n",
    "methods = [random_query_cat, margin_query_cat, entropy_query_cat]\n",
    "ax[1].set_ylim(0, 1)\n",
    "for method in methods:\n",
    "    baseball_p = (np.cumsum(method==2))  / np.arange(1, n_queries+1)\n",
    "    ax[1].plot(np.arange(n_queries), baseball_p, '.', alpha=0.5)\n",
    "\n",
    "\n",
    "plt.show()\n"
   ]
  },
  {
   "cell_type": "code",
   "execution_count": null,
   "metadata": {},
   "outputs": [],
   "source": []
  },
  {
   "cell_type": "code",
   "execution_count": null,
   "metadata": {},
   "outputs": [],
   "source": []
  }
 ],
 "metadata": {
  "kernelspec": {
   "display_name": "Python 3.9.13 ('home')",
   "language": "python",
   "name": "python3"
  },
  "language_info": {
   "codemirror_mode": {
    "name": "ipython",
    "version": 3
   },
   "file_extension": ".py",
   "mimetype": "text/x-python",
   "name": "python",
   "nbconvert_exporter": "python",
   "pygments_lexer": "ipython3",
   "version": "3.9.13"
  },
  "orig_nbformat": 4,
  "vscode": {
   "interpreter": {
    "hash": "f4c2cb950b5677fac819acd5180221df02d2039be645768840938e78805a762b"
   }
  }
 },
 "nbformat": 4,
 "nbformat_minor": 2
}
